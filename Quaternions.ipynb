{
 "cells": [
  {
   "cell_type": "markdown",
   "metadata": {},
   "source": [
    "# Homework\n",
    "Define a quaternion type over a given number type `T`. Implement addition and multiplication, as well as scaling by a number.\n",
    "\n",
    "Hint:\n",
    "- Use `immutable` instead of `type` when declaring the type\n",
    "- Import (at least) the operators `+` and `*` from `Base`; see the manual for details\n",
    "- To cheat, look for an existing Julia package providing quaterions"
   ]
  },
  {
   "cell_type": "code",
   "execution_count": 1,
   "metadata": {
    "collapsed": true
   },
   "outputs": [],
   "source": [
    "using Base.Test"
   ]
  },
  {
   "cell_type": "code",
   "execution_count": 2,
   "metadata": {
    "collapsed": false
   },
   "outputs": [],
   "source": [
    "# The definition of the Quaternion\n",
    "import Base.+\n",
    "import Base.*\n",
    "import Base.-\n",
    "import Base./\n",
    "import Base.conj\n",
    "import Base.inv\n",
    "import Base.\\\n",
    "immutable Quaternion{T<:Number} <: Number\n",
    "    r::T\n",
    "    i::T\n",
    "    j::T\n",
    "    k::T\n",
    "end"
   ]
  },
  {
   "cell_type": "code",
   "execution_count": 24,
   "metadata": {
    "collapsed": false
   },
   "outputs": [
    {
     "data": {
      "text/plain": [
       "\\ (generic function with 61 methods)"
      ]
     },
     "execution_count": 24,
     "metadata": {},
     "output_type": "execute_result"
    }
   ],
   "source": [
    "# Define multiplication\n",
    "function *{T<:Number}(q1::Quaternion{T},q2::Quaternion{T})\n",
    "    r = q1.r*q2.r - q1.i*q2.i - q1.j*q2.j - q1.k*q2.k\n",
    "    i = q1.r*q2.i + q1.i*q2.r + q1.j*q2.k - q1.k*q2.j\n",
    "    j = q1.r*q2.j + q1.j*q2.r - q1.i*q2.k + q1.k*q2.i\n",
    "    k = q1.r*q2.k + q1.k*q2.r + q1.i*q2.j - q1.j*q2.i\n",
    "    Quaternion{T}(r,i,j,k)\n",
    "end\n",
    "# The definition of scalar multiplication\n",
    "*(s::Bool,q::Quaternion{Bool}) = Quaternion{Bool}(q.r*s,q.i*s,q.j*s,q.k*s) # Bools are special for some reason\n",
    "*{T<:Number}(s::T,q::Quaternion{T}) = Quaternion{T}(q.r*s,q.i*s,q.j*s,q.k*s)\n",
    "# Define Addition, subtraction, and additive inversion\n",
    "+{T<:Number}(q1::Quaternion{T},q2::Quaternion{T}) = Quaternion{T}(q1.r+q2.r,q1.i+q2.i,q1.j+q2.j,q1.k+q2.k)\n",
    "-{T<:Number}(q::Quaternion{T}) = Quaternion{T}(-q.r,-q.i,-q.j,-q.k)\n",
    "-{T<:Number}(q1::Quaternion{T},q2::Quaternion{T})=q1+(-(q2))\n",
    "# And a commutator\n",
    "commutator{T<:Number}(q1::Quaternion{T},q2::Quaternion{T})=q1*q2-q2*q1\n",
    "# Conjugate \n",
    "function conj{T<:Number}(q::Quaternion{T})\n",
    "    Quaternion{T}(q.r,-q.i,-q.j,-q.k)\n",
    "end\n",
    "# Norm\n",
    "norm{T<:Number}(q::Quaternion{T})=sqrt((conj(q)*q).r)\n",
    "# Inverse\n",
    "function inv{T}(q::Quaternion{T})\n",
    "    n2 = norm(q)*norm(q)\n",
    "    inv(n2)*conj(q)\n",
    "end\n",
    "# Scalar Division\n",
    "/{T<:Number}(q::Quaternion{T},s::T) = inv(s)*q\n",
    "# Division\n",
    "function /{T<:Number}(q1::Quaternion{T},q2::Quaternion{T})\n",
    "    q1*inv(q2)\n",
    "end\n",
    "function \\{T<:Number}(q1::Quaternion{T},q2::Quaternion{T})\n",
    "    inv(q1)*q1\n",
    "end"
   ]
  },
  {
   "cell_type": "markdown",
   "metadata": {},
   "source": [
    "## The tests"
   ]
  },
  {
   "cell_type": "code",
   "execution_count": 17,
   "metadata": {
    "collapsed": false
   },
   "outputs": [],
   "source": [
    "q1=Quaternion(1.,2.,3.,4.);\n",
    "q2=Quaternion(1./2.,2./3.,3./4.,4./5.);"
   ]
  },
  {
   "cell_type": "code",
   "execution_count": 42,
   "metadata": {
    "collapsed": false
   },
   "outputs": [],
   "source": [
    "# Test norm\n",
    "@test_approx_eq(norm(q1),sqrt(1.+4.+9.+16.))\n",
    "# Test multiplication and addition\n",
    "@test 2.q1 == q1+q1\n",
    "# Test inverse\n",
    "@test_approx_eq(norm(q1/q1),1.)\n",
    "@test_approx_eq(norm(q1\\q1),1.)"
   ]
  }
 ],
 "metadata": {
  "kernelspec": {
   "display_name": "Julia 0.4.0-rc4",
   "language": "julia",
   "name": "julia-0.4"
  },
  "language_info": {
   "file_extension": ".jl",
   "mimetype": "application/julia",
   "name": "julia",
   "version": "0.4.0"
  }
 },
 "nbformat": 4,
 "nbformat_minor": 0
}
