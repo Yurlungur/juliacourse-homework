{
 "cells": [
  {
   "cell_type": "markdown",
   "metadata": {},
   "source": [
    "## Homework 2: Secant method\n",
    "\n",
    "This assignment teaches implementing simple algorithms with loops and conditionals.\n",
    "\n",
    "Define a function `secant` that takes as input\n",
    "- a function `f`\n",
    "- a lower bound `xlo`\n",
    "- an upper bound `xhi`\n",
    "- a resolution `dx`\n",
    "\n",
    "that finds a root of `f` in the interval `[xlo:xhi]` with a resolution of `dx`. That is, the function `secant` should iteratively reduce the size of the interval until it is smaller than `dx`, bracketing a root of `f`.\n",
    "\n",
    "Note:\n",
    "- Check initially whether there is actually a root inside the interval, i.e. whether `f(xlo)` and `f(xhi)` have different sign\n",
    "- Use the secant method; alternatively, use the bisection method which is slower, but slightly easier to implement\n",
    "- If you pass a function as argument to a function, it is customary to not specify a type constraint for this argument, as in `function secant(f, xlo::Real, xhi::Real, dx::Real)`\n",
    "- To test performance (in the sense of number of iterations required), use the `info` command to output a message during each iteration\n",
    "- As a test, find the value of `sqrt(2)` to 100 digits. Hint: Solve `x^2-2==0`, and use the `BigFloat` type."
   ]
  },
  {
   "cell_type": "code",
   "execution_count": 1,
   "metadata": {
    "collapsed": false
   },
   "outputs": [
    {
     "data": {
      "text/plain": [
       "Function"
      ]
     },
     "execution_count": 1,
     "metadata": {},
     "output_type": "execute_result"
    }
   ],
   "source": [
    "typeof(+)"
   ]
  },
  {
   "cell_type": "code",
   "execution_count": 10,
   "metadata": {
    "collapsed": false
   },
   "outputs": [
    {
     "data": {
      "text/plain": [
       "midpoint (generic function with 1 method)"
      ]
     },
     "execution_count": 10,
     "metadata": {},
     "output_type": "execute_result"
    }
   ],
   "source": [
    "midpoint(xlo::Real,xhi::Real)=0.5*(xlo+xhi)"
   ]
  },
  {
   "cell_type": "code",
   "execution_count": 29,
   "metadata": {
    "collapsed": false
   },
   "outputs": [
    {
     "data": {
      "text/plain": [
       "secant (generic function with 1 method)"
      ]
     },
     "execution_count": 29,
     "metadata": {},
     "output_type": "execute_result"
    }
   ],
   "source": [
    "function secant(f,\n",
    "    xlo::Real,xhi::Real,\n",
    "    dx::Real)\n",
    "    # check various conditions\n",
    "    if xlo == xhi\n",
    "        throw(DomainError())\n",
    "    end\n",
    "    if xlo > xhi\n",
    "        return secant(f,xhi,xlo,dx)\n",
    "    end\n",
    "    flo,fhi = f(xlo),f(xhi)\n",
    "    if sign(flo*fhi) > 0\n",
    "        throw(DomainError())\n",
    "    end\n",
    "    if abs(xlo) <= dx return xlo end\n",
    "    if abs(xhi) <= dx return xhi end\n",
    "    # Initial two guesses based on midpoint method. \n",
    "    x0=midpoint(xlo,xhi)\n",
    "    f0=f(x0)\n",
    "    info(\"x=$x0 | f=$f0\")\n",
    "    if abs(f0) <= dx return x0 end\n",
    "    if f0 < 0\n",
    "        x1 = x0 < 0 ? midpoint(xlo,x0) : midpoint(x0,xhi)\n",
    "    else\n",
    "        x1 = x0 < 0 ? midpoint(x0,xhi) : midpoint(xlo,x0)\n",
    "    end\n",
    "    info(\"x=$x1 | f=$(f(x1))\")\n",
    "    if abs(f(x1)) <= dx return x1 end\n",
    "    # and now the loop!\n",
    "    while abs(f(x1)) > dx\n",
    "        x0,x1 = x1,x1 - f(x1)*(x1-x0)/(f(x1)-f(x0))\n",
    "        info(\"x=$x1 | f=$(f(x1))\")\n",
    "    end\n",
    "    return x1\n",
    "end"
   ]
  },
  {
   "cell_type": "code",
   "execution_count": 35,
   "metadata": {
    "collapsed": false
   },
   "outputs": [
    {
     "name": "stderr",
     "output_type": "stream",
     "text": [
      "INFO: x=1.2500000000000000000000000000000000000000000000000000000000000000000000000000000000000000000000000000000000000000000000000 | f=-4.3750000000000000000000000000000000000000000000000000000000000000000000000000000000000000000000000000000000000000000000000e-01\n",
      "INFO: x=1.6250000000000000000000000000000000000000000000000000000000000000000000000000000000000000000000000000000000000000000000000 | f=6.4062500000000000000000000000000000000000000000000000000000000000000000000000000000000000000000000000000000000000000000000e-01\n"
     ]
    },
    {
     "data": {
      "text/plain": [
       "1.4142135623730950488016887242096980785696718753769480731766797379907324784621070388503875343276415727350175239968496293396"
      ]
     },
     "execution_count": 35,
     "metadata": {},
     "output_type": "execute_result"
    },
    {
     "name": "stderr",
     "output_type": "stream",
     "text": [
      "INFO: x=1.4021739130434782608695652173913043478260869565217391304347826086956521739130434782608695652173913043478260869565217391303 | f=-3.3908317580340264650283553875236294896030245746691871455576559546313799621928166351606805293005671077504725897920604915751e-02\n",
      "INFO: x=1.4133752244165170556552962298025134649910233393177737881508078994614003590664272890484739676840215439856373429084380610416 | f=-2.3704750055600501532639911812769743012870307398251082195268961382631370286447337461200519582657800669784592375801372437267e-03\n",
      "INFO: x=1.4142171472137510396451344607707235930135846964236207374549487108400332686443027446631549764347102855558635985583587468807 | f=1.0139473400379956141406034488125659614053289014083987416575707725382882635334107224124240447043756906468024278024531230222e-05\n",
      "INFO: x=1.4142135613102445402369252307717469547019258230346008829978111759964780573161412860528082303267007539911490085405847082362 | f=-3.0061952068452086966522608034736850536047173398361598168958260150619713032195808524714453767134084472195930555803966260185e-09\n",
      "INFO: x=1.4142135623730937017120453891539138048225234649996533611509123887641140944275433892741760891922413543633118168461394280963 | f=-3.8101448866735407380831360860691007133762125252173046218399459530735453512230012503214986350769986019329937848957840445516e-15\n",
      "INFO: x=1.4142135623730950488016892304115020820885762754880409766226633997792402545888716828391961774192887418224352651599184572156 | f=1.4317549130390074341884289325222480437920034419633290444562554569430320975725264864230976742275066687868397548656188023595e-24\n",
      "INFO: x=1.4142135623730950488016887242096980785694307876000544567699984040296199470577871771324796742709608064162388566794955193654 | f=-6.8189920761066241888012871296255599892876719662803027884739871414234053044880737776171499088669598095755371321943300854635e-40\n",
      "INFO: x=1.4142135623730950488016887242096980785696718753769480731766797379475851523319711158261102618135177262502102474282952659514 | f=-1.2203906758674650598501283064687850372236992054062166595072768940005831675790196324201868176667745690680478368442215109566e-64\n",
      "INFO: x=1.4142135623730950488016887242096980785696718753769480731766797379907324784621070388503875343276415727350175239968496293396 | f=1.04022929356183148561185375120515176961354446918268928571109431669636469496537946540804333365334740504478630712730151375e-104\n"
     ]
    }
   ],
   "source": [
    "with_bigfloat_precision(400) do\n",
    "    secant((x)->x^2-2,BigFloat(0.5),BigFloat(2.),BigFloat(10.0^(-100)))\n",
    "end"
   ]
  },
  {
   "cell_type": "code",
   "execution_count": null,
   "metadata": {
    "collapsed": true
   },
   "outputs": [],
   "source": []
  }
 ],
 "metadata": {
  "kernelspec": {
   "display_name": "Julia 0.4.0-rc4",
   "language": "julia",
   "name": "julia-0.4"
  },
  "language_info": {
   "file_extension": ".jl",
   "mimetype": "application/julia",
   "name": "julia",
   "version": "0.4.0"
  }
 },
 "nbformat": 4,
 "nbformat_minor": 0
}
