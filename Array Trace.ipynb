{
 "cells": [
  {
   "cell_type": "markdown",
   "metadata": {},
   "source": [
    "## Homework 3: Matrix multiplication\n",
    "\n",
    "This assignment teaches linear algebra operations via explicit `for` loops.\n",
    "\n",
    "Write a function that accepts as input two rank-3 tensors `A_kil` and `B_ljk`, and that calculate the traces `T_ij := A_kil B_ljk`.\n",
    "- Calculate this trace via explicit `for` loops\n",
    "- Use `reshape` to calculate the traces also via built-in linear algebra calls, i.e. without `for` loops\n",
    "- Compare code size, clarity, time needed to develop the code, and performance (using `@time`, for reasonably large matrices)"
   ]
  },
  {
   "cell_type": "code",
   "execution_count": 23,
   "metadata": {
    "collapsed": false
   },
   "outputs": [
    {
     "data": {
      "text/plain": [
       "trace1 (generic function with 1 method)"
      ]
     },
     "execution_count": 23,
     "metadata": {},
     "output_type": "execute_result"
    }
   ],
   "source": [
    "function trace1{T<:Number}(A::Array{T,3},B::Array{T,3})\n",
    "    if size(A)[1] != size(B)[end] || size(A)[end] != size(B)[1]\n",
    "        throw(BoundsError())\n",
    "    end\n",
    "    imax=size(A)[2]\n",
    "    jmax=size(A)[2]\n",
    "    lmax=size(A)[end]\n",
    "    kmax=size(A)[1]\n",
    "    s=zeros(T,imax,jmax)\n",
    "    for i=1:imax,j=1:jmax,k=1:kmax,l=1:lmax\n",
    "        s[i,j] += A[k,i,l]*B[l,j,k]\n",
    "    end\n",
    "    s\n",
    "end"
   ]
  },
  {
   "cell_type": "code",
   "execution_count": null,
   "metadata": {
    "collapsed": true
   },
   "outputs": [],
   "source": [
    "function trace"
   ]
  },
  {
   "cell_type": "code",
   "execution_count": 33,
   "metadata": {
    "collapsed": false
   },
   "outputs": [],
   "source": [
    "A = reshape(collect(1:27),3,3,3);\n",
    "B = reshape(collect(28:(28+27-1)),3,3,3);"
   ]
  },
  {
   "cell_type": "code",
   "execution_count": 35,
   "metadata": {
    "collapsed": false
   },
   "outputs": [
    {
     "name": "stdout",
     "output_type": "stream",
     "text": [
      "  "
     ]
    },
    {
     "data": {
      "text/plain": [
       "3x3 Array{Int64,2}:\n",
       " 3870  4167  4464\n",
       " 4896  5274  5652\n",
       " 5922  6381  6840"
      ]
     },
     "execution_count": 35,
     "metadata": {},
     "output_type": "execute_result"
    },
    {
     "name": "stdout",
     "output_type": "stream",
     "text": [
      "0.000010 seconds (149 allocations: 10.292 KB)\n"
     ]
    }
   ],
   "source": [
    "@time trace1(A,B)"
   ]
  },
  {
   "cell_type": "code",
   "execution_count": 22,
   "metadata": {
    "collapsed": false
   },
   "outputs": [
    {
     "data": {
      "text/plain": [
       "0.0"
      ]
     },
     "execution_count": 22,
     "metadata": {},
     "output_type": "execute_result"
    }
   ],
   "source": [
    "zeros(Float64,2,2)[1,1]"
   ]
  },
  {
   "cell_type": "code",
   "execution_count": 21,
   "metadata": {
    "collapsed": false
   },
   "outputs": [
    {
     "name": "stdout",
     "output_type": "stream",
     "text": [
      "2\n",
      "3\n",
      "3\n",
      "4\n"
     ]
    }
   ],
   "source": [
    "for i=1:2,j=1:2\n",
    "    println(i+j)\n",
    "end"
   ]
  },
  {
   "cell_type": "code",
   "execution_count": null,
   "metadata": {
    "collapsed": true
   },
   "outputs": [],
   "source": []
  }
 ],
 "metadata": {
  "kernelspec": {
   "display_name": "Julia 0.4.0-rc4",
   "language": "julia",
   "name": "julia-0.4"
  },
  "language_info": {
   "file_extension": ".jl",
   "mimetype": "application/julia",
   "name": "julia",
   "version": "0.4.0"
  }
 },
 "nbformat": 4,
 "nbformat_minor": 0
}
